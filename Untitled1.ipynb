{
  "nbformat": 4,
  "nbformat_minor": 0,
  "metadata": {
    "colab": {
      "name": "Untitled1.ipynb",
      "provenance": [],
      "authorship_tag": "ABX9TyO8CrxMg8skChIRq+D0paEN",
      "include_colab_link": true
    },
    "kernelspec": {
      "name": "python3",
      "display_name": "Python 3"
    },
    "language_info": {
      "name": "python"
    }
  },
  "cells": [
    {
      "cell_type": "markdown",
      "metadata": {
        "id": "view-in-github",
        "colab_type": "text"
      },
      "source": [
        "<a href=\"https://colab.research.google.com/github/Caycoofficial/Homework-1/blob/main/Untitled1.ipynb\" target=\"_parent\"><img src=\"https://colab.research.google.com/assets/colab-badge.svg\" alt=\"Open In Colab\"/></a>"
      ]
    },
    {
      "cell_type": "markdown",
      "source": [
        ""
      ],
      "metadata": {
        "id": "yUPWbXafe1s7"
      }
    },
    {
      "cell_type": "code",
      "execution_count": 25,
      "metadata": {
        "colab": {
          "base_uri": "https://localhost:8080/",
          "height": 0
        },
        "id": "HPOdFNcWTUKc",
        "outputId": "d1a9cc8e-4f10-4443-e2c0-f60bb3bcc855"
      },
      "outputs": [
        {
          "output_type": "execute_result",
          "data": {
            "text/plain": [
              "array(['SI2', 'SI1', 'VS1', 'VS2', 'VVS2', 'VVS1', 'I1', 'IF'],\n",
              "      dtype=object)"
            ]
          },
          "metadata": {},
          "execution_count": 25
        }
      ],
      "source": [
        "#Caleb Hull\n",
        "#Homework 1\n",
        "#8/21/2022\n",
        "#TROYONLINE-CS4410XTIA-22T1\n",
        "#9.16 (Working with the diamonds.csv Dataset in Pandas)\n",
        "import pandas as pd\n",
        "url = 'https://raw.githubusercontent.com/Caycoofficial/Homework-1/main/diamonds.csv'\n",
        "#b)\n",
        "df = pd.read_csv(url, index_col=0)\n",
        "print(df)\n",
        "#c)\n",
        "df.head(7)\n",
        "#d)\n",
        "df.tail(7)\n",
        "#e)\n",
        "df.describe()\n",
        "#f)\n",
        "df['cut'].describe()\n",
        "df['color'].describe()\n",
        "df['clarity'].describe()\n",
        "#g)\n",
        "df['cut'].unique()\n",
        "df['color'].unique()\n",
        "df['clarity'].unique()\n",
        "#h)\n",
        "df.hist()\n",
        "\n"
      ]
    }
  ]
}